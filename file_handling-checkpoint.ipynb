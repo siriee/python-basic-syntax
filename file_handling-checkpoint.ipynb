{
 "cells": [
  {
   "cell_type": "markdown",
   "id": "d8f3ad62",
   "metadata": {},
   "source": [
    "file handling with python"
   ]
  },
  {
   "cell_type": "markdown",
   "id": "6508ac99",
   "metadata": {},
   "source": [
    "operations on files includes\n",
    "create-->'x'\n",
    "read-->'r'\n",
    "append-->'a'\n",
    "write-->'w'"
   ]
  },
  {
   "cell_type": "code",
   "execution_count": 5,
   "id": "445f12be",
   "metadata": {},
   "outputs": [
    {
     "name": "stdout",
     "output_type": "stream",
     "text": [
      "file is created\n"
     ]
    }
   ],
   "source": [
    "f1=open(\"siri\",'x')\n",
    "print(\"file is created\")    #if this executed for first time \n",
    "f1.close()           #it is creating the file"
   ]
  },
  {
   "cell_type": "code",
   "execution_count": 6,
   "id": "85202b39",
   "metadata": {},
   "outputs": [
    {
     "ename": "FileExistsError",
     "evalue": "[Errno 17] File exists: 'siri'",
     "output_type": "error",
     "traceback": [
      "\u001b[1;31m---------------------------------------------------------------------------\u001b[0m",
      "\u001b[1;31mFileExistsError\u001b[0m                           Traceback (most recent call last)",
      "Input \u001b[1;32mIn [6]\u001b[0m, in \u001b[0;36m<cell line: 1>\u001b[1;34m()\u001b[0m\n\u001b[1;32m----> 1\u001b[0m f1\u001b[38;5;241m=\u001b[39m\u001b[38;5;28;43mopen\u001b[39;49m\u001b[43m(\u001b[49m\u001b[38;5;124;43m\"\u001b[39;49m\u001b[38;5;124;43msiri\u001b[39;49m\u001b[38;5;124;43m\"\u001b[39;49m\u001b[43m,\u001b[49m\u001b[38;5;124;43m'\u001b[39;49m\u001b[38;5;124;43mx\u001b[39;49m\u001b[38;5;124;43m'\u001b[39;49m\u001b[43m)\u001b[49m\n\u001b[0;32m      2\u001b[0m \u001b[38;5;28mprint\u001b[39m(\u001b[38;5;124m\"\u001b[39m\u001b[38;5;124mfile is created\u001b[39m\u001b[38;5;124m\"\u001b[39m)    \u001b[38;5;66;03m#if this executed for second time \u001b[39;00m\n\u001b[0;32m      3\u001b[0m f1\u001b[38;5;241m.\u001b[39mclose()\n",
      "\u001b[1;31mFileExistsError\u001b[0m: [Errno 17] File exists: 'siri'"
     ]
    }
   ],
   "source": [
    "f1=open(\"siri\",'x')      #since file already exists\n",
    "print(\"file is created\")    #if this executed for second time \n",
    "f1.close()  "
   ]
  },
  {
   "cell_type": "code",
   "execution_count": 7,
   "id": "2e152112",
   "metadata": {},
   "outputs": [
    {
     "ename": "UnsupportedOperation",
     "evalue": "not writable",
     "output_type": "error",
     "traceback": [
      "\u001b[1;31m---------------------------------------------------------------------------\u001b[0m",
      "\u001b[1;31mUnsupportedOperation\u001b[0m                      Traceback (most recent call last)",
      "Input \u001b[1;32mIn [7]\u001b[0m, in \u001b[0;36m<cell line: 2>\u001b[1;34m()\u001b[0m\n\u001b[0;32m      1\u001b[0m f1\u001b[38;5;241m=\u001b[39m\u001b[38;5;28mopen\u001b[39m(\u001b[38;5;124m\"\u001b[39m\u001b[38;5;124msiri\u001b[39m\u001b[38;5;124m\"\u001b[39m)\n\u001b[1;32m----> 2\u001b[0m \u001b[43mf1\u001b[49m\u001b[38;5;241;43m.\u001b[39;49m\u001b[43mwrite\u001b[49m\u001b[43m(\u001b[49m\u001b[38;5;124;43m\"\u001b[39;49m\u001b[38;5;124;43mthis is a sample file\u001b[39;49m\u001b[38;5;124;43m\"\u001b[39;49m\u001b[43m)\u001b[49m\n\u001b[0;32m      3\u001b[0m \u001b[38;5;28mprint\u001b[39m(f1\u001b[38;5;241m.\u001b[39mread())\n",
      "\u001b[1;31mUnsupportedOperation\u001b[0m: not writable"
     ]
    }
   ],
   "source": [
    "f1=open(\"siri\")\n",
    "f1.write(\"this is a sample file\")\n",
    "print(f1.read())"
   ]
  },
  {
   "cell_type": "code",
   "execution_count": 11,
   "id": "73016c62",
   "metadata": {},
   "outputs": [
    {
     "name": "stdout",
     "output_type": "stream",
     "text": [
      "\n"
     ]
    }
   ],
   "source": [
    "f1=open(\"siri\")\n",
    "print(f1.read())    #since file doesn't contain anything\n",
    "f1.close()"
   ]
  },
  {
   "cell_type": "code",
   "execution_count": 17,
   "id": "089e098d",
   "metadata": {},
   "outputs": [],
   "source": [
    "f1=open('siri','w')\n",
    "f1.write(\"this is the sample file\")\n",
    "f1.close()"
   ]
  },
  {
   "cell_type": "code",
   "execution_count": 18,
   "id": "30443fbc",
   "metadata": {},
   "outputs": [
    {
     "name": "stdout",
     "output_type": "stream",
     "text": [
      "this is the sample file\n"
     ]
    }
   ],
   "source": [
    "f1=open('siri','r')\n",
    "print(f1.read())\n",
    "f1.close()"
   ]
  },
  {
   "cell_type": "code",
   "execution_count": 19,
   "id": "5bb4839d",
   "metadata": {},
   "outputs": [],
   "source": [
    "f1=open('siri','w')     #file is opened in write mode so we can't read\n",
    "f1.write(\"write operation overwrites the existing data in file\")\n",
    "f1.close()"
   ]
  },
  {
   "cell_type": "code",
   "execution_count": 20,
   "id": "b87b3229",
   "metadata": {},
   "outputs": [
    {
     "name": "stdout",
     "output_type": "stream",
     "text": [
      "write operation overwrites the existing data in file\n"
     ]
    }
   ],
   "source": [
    "f1=open('siri','r')\n",
    "print(f1.read())\n",
    "f1.close()"
   ]
  },
  {
   "cell_type": "code",
   "execution_count": 21,
   "id": "bf6e970e",
   "metadata": {},
   "outputs": [],
   "source": [
    "f1=open('siri','a')\n",
    "f1.write(\"but append gets attached to the existing data in file\")\n",
    "f1.write(\"\\n to see whether newline character exist or not\")\n",
    "f1.close()"
   ]
  },
  {
   "cell_type": "code",
   "execution_count": 22,
   "id": "5e45186b",
   "metadata": {},
   "outputs": [
    {
     "name": "stdout",
     "output_type": "stream",
     "text": [
      "write operation overwrites the existing data in filebut append gets attached to the existing data in file\n",
      "\n",
      " to see whether newline character exist or not\n"
     ]
    }
   ],
   "source": [
    "f1=open('siri','r')\n",
    "for x in f1:\n",
    "    print(x)\n",
    "f1.close()"
   ]
  },
  {
   "cell_type": "code",
   "execution_count": 23,
   "id": "d7ccf3d3",
   "metadata": {},
   "outputs": [],
   "source": [
    "f1=open('siri','a')\n",
    "f1.write(\"\\nlist of students\")\n",
    "f1.write(\"\\n siri\\neswar\\ndiv\\takhi\")\n",
    "f1.close()"
   ]
  },
  {
   "cell_type": "code",
   "execution_count": 25,
   "id": "291f1e27",
   "metadata": {},
   "outputs": [
    {
     "name": "stdout",
     "output_type": "stream",
     "text": [
      "<_io.TextIOWrapper name='siri' mode='r' encoding='cp1252'>\n",
      "write operation overwrites the existing data in filebut append gets attached to the existing data in file\n",
      "\n",
      " to see whether newline character exist or not\n",
      "\n",
      "list of students\n",
      "\n",
      " siri\n",
      "\n",
      "eswar\n",
      "\n",
      "div\takhi\n"
     ]
    }
   ],
   "source": [
    "f1=open('siri','r')\n",
    "print(f1)\n",
    "for x in f1:\n",
    "    print(x)\n",
    "f1.close()"
   ]
  },
  {
   "cell_type": "code",
   "execution_count": 28,
   "id": "e8ed46c6",
   "metadata": {},
   "outputs": [
    {
     "name": "stdout",
     "output_type": "stream",
     "text": [
      "write operation overwrites the existing data in filebut append gets attached to the existing data in file\n",
      " to see whether newline character exist or not\n",
      "list of students\n",
      " siri\n",
      "eswar\n",
      "div\takhi\n",
      "\n"
     ]
    }
   ],
   "source": [
    "f1=open('siri','r')\n",
    "print(f1.read())\n",
    "f1.close()"
   ]
  },
  {
   "cell_type": "code",
   "execution_count": 34,
   "id": "fa229ae4",
   "metadata": {},
   "outputs": [
    {
     "name": "stdout",
     "output_type": "stream",
     "text": [
      "write operation overwrites the existing data in filebut append gets attached to the existing data in file\n",
      "\n"
     ]
    }
   ],
   "source": [
    "f1=open('siri','r')\n",
    "print(f1.readline())    #reads only one line\n",
    "f1.close()"
   ]
  },
  {
   "cell_type": "code",
   "execution_count": 36,
   "id": "33803d8e",
   "metadata": {},
   "outputs": [
    {
     "name": "stdout",
     "output_type": "stream",
     "text": [
      "write operation overwrites the existing data in filebut append gets attached to the existing data in file\n",
      "\n",
      " to see whether newline character exist or not\n",
      "\n",
      "list of students\n",
      "\n"
     ]
    }
   ],
   "source": [
    "f1=open('siri','r')\n",
    "print(f1.readline())\n",
    "print(f1.readline())\n",
    "print(f1.readline())\n",
    "f1.close()"
   ]
  },
  {
   "cell_type": "code",
   "execution_count": 38,
   "id": "0c634907",
   "metadata": {},
   "outputs": [
    {
     "name": "stdout",
     "output_type": "stream",
     "text": [
      "['write operation overwrites the existing data in filebut append gets attached to the existing data in file\\n', ' to see whether newline character exist or not\\n', 'list of students\\n', ' siri\\n', 'eswar\\n', 'div\\takhi']\n"
     ]
    }
   ],
   "source": [
    "f1=open('siri','r')\n",
    "print(f1.readlines())    #returns the list of statements in file named siri \n",
    "f1.close()"
   ]
  },
  {
   "cell_type": "code",
   "execution_count": 39,
   "id": "4ca12153",
   "metadata": {},
   "outputs": [],
   "source": [
    "f2=open('eswar','w')\n",
    "f2.write(\"this is second sample file\")\n",
    "f2.close()"
   ]
  },
  {
   "cell_type": "markdown",
   "id": "28ea6974",
   "metadata": {},
   "source": [
    "#transferring data from one file to another file"
   ]
  },
  {
   "cell_type": "code",
   "execution_count": 40,
   "id": "d5354945",
   "metadata": {},
   "outputs": [],
   "source": [
    "f1=open('siri','r')\n",
    "f2=open('eswar','a')\n",
    "f2.write(f1.read())\n",
    "f1.close()\n",
    "f2.close()"
   ]
  },
  {
   "cell_type": "code",
   "execution_count": 42,
   "id": "4b334f67",
   "metadata": {},
   "outputs": [
    {
     "name": "stdout",
     "output_type": "stream",
     "text": [
      "write operation overwrites the existing data in filebut append gets attached to the existing data in file\n",
      " to see whether newline character exist or not\n",
      "list of students\n",
      " siri\n",
      "eswar\n",
      "div\takhi\n"
     ]
    }
   ],
   "source": [
    "f1=open('siri','r')\n",
    "f2=open('eswar','r')\n",
    "print(f1.read())\n"
   ]
  },
  {
   "cell_type": "code",
   "execution_count": 43,
   "id": "3037237e",
   "metadata": {},
   "outputs": [
    {
     "name": "stdout",
     "output_type": "stream",
     "text": [
      "this is second sample filewrite operation overwrites the existing data in filebut append gets attached to the existing data in file\n",
      " to see whether newline character exist or not\n",
      "list of students\n",
      " siri\n",
      "eswar\n",
      "div\takhi\n"
     ]
    }
   ],
   "source": [
    "print(f2.read())"
   ]
  },
  {
   "cell_type": "code",
   "execution_count": 44,
   "id": "28502b3b",
   "metadata": {},
   "outputs": [],
   "source": [
    "f1.close()\n",
    "f2.close()"
   ]
  },
  {
   "cell_type": "code",
   "execution_count": 45,
   "id": "8f63fc8c",
   "metadata": {},
   "outputs": [],
   "source": [
    "f1=open('siri','r')\n",
    "f2=open('eswar','w')\n",
    "f2.write(f1.read())\n",
    "f1.close()\n",
    "f2.close()"
   ]
  },
  {
   "cell_type": "code",
   "execution_count": 56,
   "id": "c945685b",
   "metadata": {},
   "outputs": [
    {
     "name": "stdout",
     "output_type": "stream",
     "text": [
      "write operation overwrites the existing data in filebut append gets attached to the existing data in file\n",
      " to see whether newline character exist or not\n",
      "list of students\n",
      " siri\n",
      "eswar\n",
      "div\takhi\n"
     ]
    }
   ],
   "source": [
    "f2=open('eswar','r')\n",
    "print(f2.read())\n",
    "f2.close()"
   ]
  },
  {
   "cell_type": "code",
   "execution_count": 47,
   "id": "6ec67066",
   "metadata": {},
   "outputs": [
    {
     "name": "stdout",
     "output_type": "stream",
     "text": [
      "['write operation overwrites the existing data in filebut append gets attached to the existing data in file\\n', ' to see whether newline character exist or not\\n', 'list of students\\n', ' siri\\n', 'eswar\\n', 'div\\takhi']\n"
     ]
    }
   ],
   "source": [
    "with open('siri','r')as f1:\n",
    "    data=f1.readlines()\n",
    "    print(data)"
   ]
  },
  {
   "cell_type": "code",
   "execution_count": 48,
   "id": "05521e71",
   "metadata": {},
   "outputs": [
    {
     "name": "stdout",
     "output_type": "stream",
     "text": [
      "['write', 'operation', 'overwrites', 'the', 'existing', 'data', 'in', 'filebut', 'append', 'gets', 'attached', 'to', 'the', 'existing', 'data', 'in', 'file']\n",
      "['to', 'see', 'whether', 'newline', 'character', 'exist', 'or', 'not']\n",
      "['list', 'of', 'students']\n",
      "['siri']\n",
      "['eswar']\n",
      "['div', 'akhi']\n"
     ]
    }
   ],
   "source": [
    "with open('siri','r')as f1:\n",
    "    data=f1.readlines()\n",
    "    for x in data:\n",
    "        print(x.split())"
   ]
  },
  {
   "cell_type": "code",
   "execution_count": 51,
   "id": "c91e0da6",
   "metadata": {},
   "outputs": [
    {
     "name": "stdout",
     "output_type": "stream",
     "text": [
      "0\n",
      "4\n",
      "e operation overwrites the existing data in filebut append gets attached to the existing data in file\n",
      "\n"
     ]
    }
   ],
   "source": [
    "f=open('siri','r')\n",
    "print(f.tell())\n",
    "f.seek(4)\n",
    "print(f.tell())\n",
    "print(f.readline())\n",
    "f.close()"
   ]
  },
  {
   "cell_type": "code",
   "execution_count": 53,
   "id": "e2e0ac50",
   "metadata": {},
   "outputs": [],
   "source": [
    "import os\n",
    "if os.path.exists('siri'):\n",
    "    os.remove('siri')\n",
    "else:\n",
    "    print(\"file doesn't exist\")"
   ]
  },
  {
   "cell_type": "code",
   "execution_count": 55,
   "id": "61bbf331",
   "metadata": {},
   "outputs": [
    {
     "ename": "PermissionError",
     "evalue": "[WinError 32] The process cannot access the file because it is being used by another process: 'eswar'",
     "output_type": "error",
     "traceback": [
      "\u001b[1;31m---------------------------------------------------------------------------\u001b[0m",
      "\u001b[1;31mPermissionError\u001b[0m                           Traceback (most recent call last)",
      "Input \u001b[1;32mIn [55]\u001b[0m, in \u001b[0;36m<cell line: 2>\u001b[1;34m()\u001b[0m\n\u001b[0;32m      1\u001b[0m \u001b[38;5;28;01mimport\u001b[39;00m \u001b[38;5;21;01mos\u001b[39;00m \n\u001b[0;32m      2\u001b[0m \u001b[38;5;28;01mif\u001b[39;00m os\u001b[38;5;241m.\u001b[39mpath\u001b[38;5;241m.\u001b[39mexists(\u001b[38;5;124m'\u001b[39m\u001b[38;5;124meswar\u001b[39m\u001b[38;5;124m'\u001b[39m):\n\u001b[1;32m----> 3\u001b[0m     \u001b[43mos\u001b[49m\u001b[38;5;241;43m.\u001b[39;49m\u001b[43mremove\u001b[49m\u001b[43m(\u001b[49m\u001b[38;5;124;43m'\u001b[39;49m\u001b[38;5;124;43meswar\u001b[39;49m\u001b[38;5;124;43m'\u001b[39;49m\u001b[43m)\u001b[49m\n\u001b[0;32m      4\u001b[0m \u001b[38;5;28;01melse\u001b[39;00m:\n\u001b[0;32m      5\u001b[0m     \u001b[38;5;28mprint\u001b[39m(\u001b[38;5;124m\"\u001b[39m\u001b[38;5;124mfile doesn\u001b[39m\u001b[38;5;124m'\u001b[39m\u001b[38;5;124mt exist\u001b[39m\u001b[38;5;124m\"\u001b[39m)\n",
      "\u001b[1;31mPermissionError\u001b[0m: [WinError 32] The process cannot access the file because it is being used by another process: 'eswar'"
     ]
    }
   ],
   "source": [
    "import os \n",
    "if os.path.exists('eswar'):\n",
    "    os.remove('eswar')\n",
    "else:\n",
    "    print(\"file doesn't exist\")"
   ]
  },
  {
   "cell_type": "code",
   "execution_count": 57,
   "id": "7d47ed6c",
   "metadata": {},
   "outputs": [],
   "source": [
    "import os \n",
    "if os.path.exists('eswar'):\n",
    "    os.remove('eswar')\n",
    "else:\n",
    "    print(\"file doesn't exist\")"
   ]
  },
  {
   "cell_type": "code",
   "execution_count": 61,
   "id": "afab4512",
   "metadata": {},
   "outputs": [
    {
     "name": "stdout",
     "output_type": "stream",
     "text": [
      "0\n",
      "2\n"
     ]
    }
   ],
   "source": [
    "#working with binary files\n",
    "f=open('s.txt','wb')\n",
    "print(f.tell())\n",
    "f.write(b'10')\n",
    "print(f.tell())  #helps to know where cursor is present\n",
    "f.close()"
   ]
  },
  {
   "cell_type": "code",
   "execution_count": 62,
   "id": "de9d66c9",
   "metadata": {},
   "outputs": [],
   "source": [
    "import os\n",
    "if os.path.exists('s.txt'):\n",
    "    os.remove('s.txt')\n",
    "else:\n",
    "    print('file not found')"
   ]
  },
  {
   "cell_type": "code",
   "execution_count": null,
   "id": "922ebc90",
   "metadata": {},
   "outputs": [],
   "source": []
  }
 ],
 "metadata": {
  "kernelspec": {
   "display_name": "Python 3 (ipykernel)",
   "language": "python",
   "name": "python3"
  },
  "language_info": {
   "codemirror_mode": {
    "name": "ipython",
    "version": 3
   },
   "file_extension": ".py",
   "mimetype": "text/x-python",
   "name": "python",
   "nbconvert_exporter": "python",
   "pygments_lexer": "ipython3",
   "version": "3.9.12"
  }
 },
 "nbformat": 4,
 "nbformat_minor": 5
}
